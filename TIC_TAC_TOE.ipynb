{
 "cells": [
  {
   "cell_type": "markdown",
   "metadata": {},
   "source": [
    "##TIC TAC TOE"
   ]
  },
  {
   "cell_type": "code",
   "execution_count": null,
   "metadata": {},
   "outputs": [],
   "source": [
    "import random"
   ]
  },
  {
   "cell_type": "code",
   "execution_count": 2,
   "metadata": {},
   "outputs": [],
   "source": [
    "# This methd displays the board\n",
    "\n",
    "from IPython.display import clear_output\n",
    "\n",
    "def tictactoe_board(board):\n",
    "    clear_output() \n",
    "    print(' ' + board[1] + ' | ' + board[2] + ' | ' + board[3])\n",
    "    print('-----------')\n",
    "    print(' ' + board[4] + ' | ' + board[5] + ' | ' + board[6])\n",
    "    print('-----------')\n",
    "    print(' ' + board[7] + ' | ' + board[8] + ' | ' + board[9])"
   ]
  },
  {
   "cell_type": "code",
   "execution_count": 3,
   "metadata": {},
   "outputs": [
    {
     "name": "stdout",
     "output_type": "stream",
     "text": [
      " 1 | 2 | 3\n",
      "-----------\n",
      " 4 | 5 | 6\n",
      "-----------\n",
      " 7 | 8 | 9\n"
     ]
    }
   ],
   "source": [
    "board=['#','1','2','3','4','5','6','7','8','9']\n",
    "tictactoe_board(board)"
   ]
  },
  {
   "cell_type": "code",
   "execution_count": 4,
   "metadata": {},
   "outputs": [],
   "source": [
    "# Assigns the marker to players\n",
    "\n",
    "def player_input():\n",
    "    marker = ''\n",
    "    while not (marker == 'X' or marker == 'O'):\n",
    "        marker = input(\"Please select X OR O ? \").upper()\n",
    "    if (marker == 'X'):\n",
    "        return ('X','O')\n",
    "    if (marker == 'O'):\n",
    "        return ('O','X')\n",
    "    "
   ]
  },
  {
   "cell_type": "code",
   "execution_count": 5,
   "metadata": {},
   "outputs": [],
   "source": [
    "# Place marker as per player's input \n",
    "\n",
    "def place_marker(board,marker,position):\n",
    "    board[position] = marker\n"
   ]
  },
  {
   "cell_type": "code",
   "execution_count": 6,
   "metadata": {},
   "outputs": [],
   "source": [
    "#Checks the status of the game \n",
    "\n",
    "def win_check(board,marker):\n",
    "    return ((board[1] == marker and board[2] == marker and board[3] == marker) or \n",
    "            (board[4] == marker and board[5] == marker and board[6] == marker) or \n",
    "            (board[7] == marker and board[8] == marker and board[9] == marker) or\n",
    "            (board[1] == marker and board[4] == marker and board[7] == marker) or \n",
    "            (board[2] == marker and board[5] == marker and board[6] == marker) or\n",
    "            (board[3] == marker and board[6] == marker and board[9] == marker) or\n",
    "            (board[1] == marker and board[5] == marker and board[9] == marker) or\n",
    "            (board[3] == marker and board[5] == marker and board[7] == marker))\n",
    "    \n",
    "\n",
    "    \n",
    "    "
   ]
  },
  {
   "cell_type": "code",
   "execution_count": 7,
   "metadata": {},
   "outputs": [],
   "source": [
    "# Checks for empty spaces in the board\n",
    "\n",
    "def space_check(board,position):\n",
    "    return (board[position] == ' ')"
   ]
  },
  {
   "cell_type": "code",
   "execution_count": 8,
   "metadata": {},
   "outputs": [],
   "source": [
    "# Randomly selects the first player\n",
    "\n",
    "def select_player():\n",
    "    if random.randint(0,1) == 0:\n",
    "        return 'Player 2'\n",
    "    else:\n",
    "        return 'Player 1'"
   ]
  },
  {
   "cell_type": "code",
   "execution_count": 9,
   "metadata": {},
   "outputs": [],
   "source": [
    "# Replay the entire game again\n",
    "\n",
    "def replay():\n",
    "    \n",
    "    return input('Do you want to play again? Enter Yes or No: ').lower().startswith('y')"
   ]
  },
  {
   "cell_type": "code",
   "execution_count": 10,
   "metadata": {},
   "outputs": [],
   "source": [
    "# Checks if the board is full\n",
    "\n",
    "def full_board_check(board):\n",
    "    for i in range(1,10):\n",
    "        if space_check(board,i):\n",
    "            return False\n",
    "    return True"
   ]
  },
  {
   "cell_type": "code",
   "execution_count": 11,
   "metadata": {},
   "outputs": [],
   "source": [
    "# PLayer's choice for his entry on the board\n",
    "\n",
    "def player_choice(board):\n",
    "    position = 0\n",
    "    while position not in [1,2,3,4,5,6,7,8,9] or not space_check(board,position):\n",
    "        position = int(input(\"choose your position from(1-9)\"))\n",
    "    \n",
    "    return position"
   ]
  },
  {
   "cell_type": "code",
   "execution_count": 12,
   "metadata": {},
   "outputs": [
    {
     "name": "stdout",
     "output_type": "stream",
     "text": [
      " X | X | O\n",
      "-----------\n",
      "   | O | O\n",
      "-----------\n",
      " X |   | O\n",
      "Congratulations! Player 2 you have won the game!\n",
      "Do you want to play again? Enter Yes or No: No\n"
     ]
    }
   ],
   "source": [
    "# Main calls to the functions above \n",
    "\n",
    "print('Welcome to the world of TIC TAC TOE.....')\n",
    "while True:\n",
    "    theBoard=[' ']*10\n",
    "    player1_marker,player2_marker = player_input()\n",
    "    turn = select_player()\n",
    "    print(turn+ \" will play first\")\n",
    "    play_game = input(\"Are you ready to play the game? Enter 'Yes' or 'No':\")\n",
    "    if play_game.lower()[0] == 'y':\n",
    "        game_on = True\n",
    "    else:\n",
    "        game_on = False\n",
    "    while game_on:\n",
    "        if turn == 'Player 1':\n",
    "            tictactoe_board(theBoard)\n",
    "            position = player_choice(theBoard)\n",
    "            place_marker(theBoard, player1_marker, position)\n",
    "\n",
    "            if win_check(theBoard, player1_marker):\n",
    "                tictactoe_board(theBoard)\n",
    "                print('Congratulations! '+turn+ ' you have won the game!')\n",
    "                game_on = False\n",
    "            else:\n",
    "                if full_board_check(theBoard):\n",
    "                    tictactoe_board(theBoard)\n",
    "                    print('The game is a draw!')\n",
    "                    break\n",
    "                else:\n",
    "                    turn = 'Player 2'\n",
    "        else:\n",
    "            tictactoe_board(theBoard)\n",
    "            position = player_choice(theBoard)\n",
    "            place_marker(theBoard, player2_marker, position)\n",
    "\n",
    "            if win_check(theBoard, player2_marker):\n",
    "                tictactoe_board(theBoard)\n",
    "                print('Congratulations! '+turn+ ' you have won the game!')\n",
    "                game_on = False\n",
    "            else:\n",
    "                if full_board_check(theBoard):\n",
    "                    tictactoe_board(theBoard)\n",
    "                    print('The game is a draw!')\n",
    "                    break\n",
    "                else:\n",
    "                    turn = 'Player 1'\n",
    "\n",
    "    if not replay():\n",
    "        break"
   ]
  }
 ],
 "metadata": {
  "kernelspec": {
   "display_name": "Python 3",
   "language": "python",
   "name": "python3"
  },
  "language_info": {
   "codemirror_mode": {
    "name": "ipython",
    "version": 3
   },
   "file_extension": ".py",
   "mimetype": "text/x-python",
   "name": "python",
   "nbconvert_exporter": "python",
   "pygments_lexer": "ipython3",
   "version": "3.8.3"
  }
 },
 "nbformat": 4,
 "nbformat_minor": 4
}
